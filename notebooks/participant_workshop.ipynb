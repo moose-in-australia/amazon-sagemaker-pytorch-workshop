{
 "cells": [
  {
   "cell_type": "markdown",
   "metadata": {},
   "source": [
    "# Custom Models with PyTorch - Amazon SageMaker Workshop\n",
    "\n",
    "<div class=\"alert alert-block alert-info\">\n",
    "    <b>Note:</b> You may be asked to choose a kernel for this notebook. Please use the following:    \n",
    "    <ul><li>Standard Amazon SageMaker notebook instances - <i>conda_pytorch_p36</i></li>\n",
    "        <li>Amazon SageMaker Studio notebooks - <i>Python 3 (PyTorch 1.6 Python 3.6 GPU Optimized)</i></li></ul>\n",
    "</div>\n",
    "\n",
    "Although the built-in algorithms provided by Amazon SageMaker are useful, sometimes it is necessary to write custom algorithms. In this workshop, you will learn how to write custom algorithms while taking advantage of all the features offered by Amazon SageMaker, including training jobs and hyperparameter tuning jobs. This workshop is just a primer meant to get you started; there are too many features to cover in a couple of hours. \n",
    "\n",
    "Amazon SageMaker supports many major deep learning frameworks, including TensorFlow, PyTorch, and Apache MXNet. In this workshop, you will build a custom model in PyTorch, but there are plenty of resources available for the other frameworks.\n",
    "\n",
    "**Contents**\n",
    "1. [Create a PyTorch script](#script)\n",
    "1. [Transform script for Amazon SageMaker](#transform)\n",
    " 1. [Add environment variables](#vars)\n",
    " 1. [Enable hyperparameter tracking](#hyperparams)\n",
    " 1. [Add logging](#logging)\n",
    "1. [Running the script with Amazon SageMaker](#run)\n",
    " 1. [Setup](#setup)\n",
    " 1. [Training](#train)\n",
    " 1. [Hyperparameter tuning](#tune)\n",
    " 1. [Deploy](#deploy)\n",
    "1. [Resources](#iwantmore)\n",
    "\n",
    "<div class=\"alert alert-block alert-info\">\n",
    "    <b>Note:</b> This workshop assumes that you have a basic knowledge of using deep learning frameworks, like PyTorch, as well as a basic knowledge of Amazon SageMaker. Please consider completing a basic Amazon SageMaker workshop before commencing with this workshop.\n",
    "</div>"
   ]
  },
  {
   "cell_type": "markdown",
   "metadata": {},
   "source": [
    "## Create a PyTorch script <a class=\"anchor\" id=\"script\"></a>\n",
    "\n",
    "Let's get started by grabbing one of the example scripts from the official PyTorch repository. We will use the [MNIST example](https://github.com/pytorch/examples/tree/master/mnist) to keep things simple. If you are not familiar with the [MNIST dataset](https://en.wikipedia.org/wiki/MNIST_database), it is a collection of images of handwritten digits (0 - 9) popular for deep learning tutorials. It could be seen as the \"Hello, World\" of deep learning.\n",
    "\n",
    "<img src=\"img/mnist.png\" alt=\"MNIST data\" width=\"300\"/>\n",
    "\n",
    "We will start with the original PyTorch script and modify it to work with Amazon SageMaker. First, take a look at the original script. A copy of it has already been placed in the `scripts` folder contained in this workshop."
   ]
  },
  {
   "cell_type": "code",
   "execution_count": null,
   "metadata": {},
   "outputs": [],
   "source": [
    "!pygmentize scripts/original_pytorch_mnist.py"
   ]
  },
  {
   "cell_type": "markdown",
   "metadata": {},
   "source": [
    "The script constructs a simple convolutional neural network, provides training and testing code, defines the hyperparameters as arguments, and loads the MNIST dataset.\n",
    "\n",
    "Let's run the script as-is to see if it works. The code below will run the PyTorch script on the instance running this notebook, which should be an `ml.t3.medium` (best practice is to run notebooks on small instances and only use powerful GPU instances for training). Since this instance does not have a GPU, the script will take a long time to run. We only want to see if it works, so set the epoch to 1 to reduce the time it takes.\n",
    "\n",
    "<div class=\"alert alert-block alert-info\">\n",
    "    <b>Note:</b> While you wait for the script to complete training, please read on and complete the next steps.\n",
    "</div>"
   ]
  },
  {
   "cell_type": "code",
   "execution_count": null,
   "metadata": {},
   "outputs": [],
   "source": [
    "!python scripts/original_pytorch_mnist.py --epochs=1"
   ]
  },
  {
   "cell_type": "markdown",
   "metadata": {},
   "source": [
    "## Transform script for Amazon SageMaker <a class=\"anchor\" id=\"transform\"></a>\n",
    "\n",
    "Now, you are going to make changes to this script to make it compatible with Amazon SageMaker. Navigate to the `scripts` folder and duplicate `original_pytorch_mnist.py`, then rename the duplicate to `sagemaker_pytorch_mnist.py`. Open this file and make the changes described in the following sections.\n",
    "\n",
    "### Add environment variables <a class=\"anchor\" id=\"vars\"></a>\n",
    "\n",
    "First, you need to add some additional arguments to the script. By doing so, your script has access to important environment variables from the Amazon SageMaker container. In this case, the only variables you need to add are:\n",
    "\n",
    "* `SM_MODEL_DIR`: A string representing the path to the directory to write model artifacts to. These artifacts are uploaded to S3 for model hosting\n",
    "* `SM_CHANNEL_TRAINING`: A string that represents the path to the directory that contains the input data for the training channel.\n",
    "* `SM_NUM_GPUS`: An integer representing the number of GPUs available to the host.\n",
    "\n",
    "However, there are many variables not covered in this workshop, which can be useful when building custom models. For more information, see the [SageMaker Containers GitHub](https://github.com/aws/sagemaker-training-toolkit#read-additional-information-using-environment-variables) and the [Amazon SageMaker Python SDK Documentation](https://sagemaker.readthedocs.io/en/stable/index.html).\n",
    "\n",
    "Start by adding the code below in the `main()` method of `sagemaker_pytorch_mnist.py`. Place it below the original argument additions, but before `args = parser.parse_args()`.\n",
    "\n",
    "```\n",
    "# SageMaker Container environment\n",
    "parser.add_argument('--model-dir', type=str, default=os.environ['SM_MODEL_DIR'])\n",
    "parser.add_argument('--data-dir', type=str, default=os.environ['SM_CHANNEL_TRAINING'])\n",
    "parser.add_argument('--num-gpus', type=int, default=os.environ['SM_NUM_GPUS'])\n",
    "```\n",
    "\n",
    "Now that your script has access to the environment variables, you need to edit the script to use them. Starting with the number of GPUs available to the host. Remove the following argument from the script, it won't be needed anymore:\n",
    "\n",
    "```\n",
    "parser.add_argument('--no-cuda', action='store_true', default=False,\n",
    "                        help='disables CUDA training')\n",
    "```\n",
    "\n",
    "Now replace\n",
    "\n",
    "```\n",
    "use_cuda = not args.no_cuda and torch.cuda.is_available()\n",
    "```\n",
    "\n",
    "with\n",
    "\n",
    "```\n",
    "use_cuda = args.num_gpus > 0\n",
    "```\n",
    "\n",
    "to make use of the new environment variable.\n",
    "\n",
    "Next, you need to make sure the script fetches the data from the data directory specified in our SageMaker environment, instead of downloading it to the instance running this notebook. \n",
    "\n",
    "In this section of the code\n",
    "\n",
    "```\n",
    "    train_loader = torch.utils.data.DataLoader(\n",
    "        datasets.MNIST('../data', train=True, download=True,\n",
    "                       transform=transforms.Compose([\n",
    "                           transforms.ToTensor(),\n",
    "                           transforms.Normalize((0.1307,), (0.3081,))\n",
    "                       ])),\n",
    "        batch_size=args.batch_size, shuffle=True, **kwargs)\n",
    "    test_loader = torch.utils.data.DataLoader(\n",
    "        datasets.MNIST('../data', train=False, transform=transforms.Compose([\n",
    "                           transforms.ToTensor(),\n",
    "                           transforms.Normalize((0.1307,), (0.3081,))\n",
    "                       ])),\n",
    "        batch_size=args.test_batch_size, shuffle=True, **kwargs)\n",
    "```\n",
    "\n",
    "replace the two occurrences of `'../data'` with `args.data_dir`.\n",
    "\n",
    "Similarly, you want to change the script so the model is saved in the model directory specified in our SageMaker environment, instead of saving it to the instance running this notebook.\n",
    "\n",
    "Replace\n",
    "\n",
    "```\n",
    "    if args.save_model:\n",
    "        torch.save(model.state_dict(), \"mnist_cnn.pt\")\n",
    "```\n",
    "\n",
    "with\n",
    "\n",
    "```\n",
    "    if args.save_model:\n",
    "        model_path = os.path.join(args.model_dir, \"mnist_cnn.pt\")\n",
    "        torch.save(model.state_dict(), model_path)\n",
    "```\n",
    "\n",
    "and don't forget to add `import os` to the top of the script."
   ]
  },
  {
   "cell_type": "markdown",
   "metadata": {},
   "source": [
    "### Enable hyperparameter tracking <a class=\"anchor\" id=\"hyperparams\"></a>\n",
    "\n",
    "This part is super easy, because you don't have to make any changes! You want SageMaker to know which hyperparameters are used by the script, so you can define these in the training jobs and hyperparameter tuning jobs. To do this, you must add the hyperparameters as arguments to `ArgumentParser` in the `main()` method. Fortunately, this was already done in the original PyTorch script, hence there is nothing additional to be done for SageMaker to track these hyperparameters.\n",
    "\n",
    "### Add logging <a class=\"anchor\" id=\"logging\"></a>\n",
    "\n",
    "SageMaker writes the logs of its training and hyperparameter tuning jobs to Amazon CloudWatch. Fortunately, this also does not require any changes to our original script. All of the `print()` statements in the original script, along with some additional startup information, will be automatically read by SageMaker and printed in the logs. Similarly, you can use the Python `logging` module instead of `print()` statements - both will work in the same way.\n",
    "\n",
    "That's it! This is all you need to run your custom PyTorch algorithms using Amazon SageMaker."
   ]
  },
  {
   "cell_type": "markdown",
   "metadata": {},
   "source": [
    "## Running the script with Amazon SageMaker <a class=\"anchor\" id=\"run\"></a>\n",
    "\n",
    "Assuming you made all the changes correctly, we should now be able to use `sagemaker_pytorch_mnist.py` to run the full training on a GPU instance using a SageMaker training job. In this workshop, we store the script on the instance running this notebook, but SageMaker can also fetch these scripts from code repositories, where they would normally be stored in production.\n",
    "\n",
    "### Setup <a class=\"anchor\" id=\"setup\"></a>\n",
    "\n",
    "First, we need to set up our execution role, session, and S3 bucket. \n",
    "\n",
    "<div class=\"alert alert-block alert-info\">\n",
    "    <b>Note:</b> \n",
    "    If you used the CloudFormation template to create the resources for this workshop in your account, or if you are running this notebook as part of an AWS-hosted workshop, an S3 bucket has already been created in your account. Identify the right S3 bucket and copy/paste this name in the code below.\n",
    "\n",
    "If you do not have an existing S3 bucket in your account for this workshop, use `bucket = sagemaker_session.default_bucket()` to have SageMaker create a bucket for you.\n",
    "</div>"
   ]
  },
  {
   "cell_type": "code",
   "execution_count": null,
   "metadata": {},
   "outputs": [],
   "source": [
    "import sagemaker\n",
    "import boto3\n",
    "\n",
    "# Get the role associated with this SageMaker notebook.\n",
    "role = sagemaker.get_execution_role()\n",
    "print(\"Role name: {}\".format(role))\n",
    "\n",
    "# Start a session\n",
    "sagemaker_session = sagemaker.Session()\n",
    "\n",
    "# Specify an S3 bucket for storing the training data.\n",
    "# !ACTION REQUIRED! Replace <TODO> with the name of the S3 bucket created by the CloudFormation template.\n",
    "# If no S3 bucket has been created, use bucket = sagemaker_session.default_bucket()\n",
    "bucket = \"<TODO>\"\n",
    "print(\"Bucket name: {}\".format(bucket))\n",
    "\n",
    "# Set a prefix for storing your data - this will look like a folder in the S3 bucket.\n",
    "prefix = 'sagemaker-workshop-pytorch'"
   ]
  },
  {
   "cell_type": "markdown",
   "metadata": {},
   "source": [
    "Normally, the next step would be to download the dataset. However, you already downloaded the dataset when you ran the original PyTorch MNIST script at the start of this workshop. If you check the root folder of this workshop, you should see a `data` folder with the MNIST data. So all we need to do is upload that to the S3 bucket by running the command below."
   ]
  },
  {
   "cell_type": "code",
   "execution_count": null,
   "metadata": {},
   "outputs": [],
   "source": [
    "inputs = sagemaker_session.upload_data(path='../data', bucket=bucket, key_prefix=prefix)\n",
    "print('Data uploaded to: {}'.format(inputs))"
   ]
  },
  {
   "cell_type": "markdown",
   "metadata": {},
   "source": [
    "### Training <a class=\"anchor\" id=\"train\"></a>\n",
    "\n",
    "Now we can call the SageMaker PyTorch estimator to start a training job. This should look familiar to you if you have used the SageMaker built-in algorithms before. It has similar parameters to specifying the instance type, instance count, role, and job name. \n",
    "\n",
    "However, it also has new parameters which are unfamiliar. Use `entry_point` to tell SageMaker where to find your custom PyTorch script and use `framework_version` to specify the version of the PyTorch container to use.\n",
    "\n",
    "The hyperparameter names should match exactly the names used in `ArgumentParser` in your script. Notice that we use a string instead of a boolean value for `save-model` - this is because the Estimator does not support boolean values.\n",
    "\n",
    "The final part of the process is to define the metrics which you want SageMaker to track. Take a look at the output produced by the original script when you ran it at the start of this workshop. It should look similar to:\n",
    "\n",
    "```\n",
    "...\n",
    "Train Epoch: 1 [57600/60000 (96%)]\tLoss: 0.161597\n",
    "Train Epoch: 1 [58240/60000 (97%)]\tLoss: 0.040758\n",
    "Train Epoch: 1 [58880/60000 (98%)]\tLoss: 0.080115\n",
    "Train Epoch: 1 [59520/60000 (99%)]\tLoss: 0.104489\n",
    "\n",
    "Test set: Average loss: 0.0602, Accuracy: 9799/10000 (98%)\n",
    "```\n",
    "\n",
    "We can ask SageMaker to track specific values from the output by providing regular expressions which extract the values of interest. In this case, you'll want to track the training loss, training accuracy, validation loss, and validation accuracy. In the code below, we have provided the regular expression for extracting the training loss, but the other three have been left blank for you to define. We recommend using a [regex tool](https://pythex.org/) to test your regular expressions."
   ]
  },
  {
   "cell_type": "code",
   "execution_count": null,
   "metadata": {},
   "outputs": [],
   "source": [
    "from sagemaker.pytorch import PyTorch\n",
    "\n",
    "# !ACTION REQUIRED! In the code below, you need to replace the <TODO>'s!\n",
    "\n",
    "estimator = PyTorch(\n",
    "    entry_point='scripts/sagemaker_pytorch_mnist.py',\n",
    "    base_job_name='training-pytorch-mnist',\n",
    "    role=role,\n",
    "    framework_version='1.2.0',\n",
    "    py_version='py3',\n",
    "    instance_count=1,\n",
    "    instance_type='ml.p2.xlarge',\n",
    "    hyperparameters={\n",
    "        'batch-size': 64,\n",
    "        'test-batch-size': 1000,\n",
    "        'epochs': 10,\n",
    "        'lr': 1.0,\n",
    "        'gamma': 0.7,\n",
    "        'seed': 1,\n",
    "        'save-model': 'True'\n",
    "    },\n",
    "    metric_definitions=[\n",
    "        {'Name': 'train:loss', 'Regex': 'Train Epoch: .+Loss: (.+)'},\n",
    "        {'Name': 'train:accuracy', 'Regex': '<TODO>'},\n",
    "        {'Name': 'val:loss', 'Regex': '<TODO>'},\n",
    "        {'Name': 'val:accuracy', 'Regex': '<TODO>'}\n",
    "    ]\n",
    ")"
   ]
  },
  {
   "cell_type": "markdown",
   "metadata": {},
   "source": [
    "When you're happy with the hyperparameter values and the metric definitions, go ahead and run the training job!\n",
    "\n",
    "<div class=\"alert alert-block alert-warning\">\n",
    "    <b>Encounter an error?</b> If you encounter an error related to instance types, this likely means that you do not have access to p2 instances on your AWS account. New AWS accounts have limits on the resource types to prevent abuse. If you are using your own account, request a limit increase through the <a href=https://console.aws.amazon.com/support/home#/>AWS Support Center</a>. If this is not your own account, simply run the training on an 'ml.c4.xlarge' instance (and reduce the number of epochs). \n",
    "</div>"
   ]
  },
  {
   "cell_type": "code",
   "execution_count": null,
   "metadata": {},
   "outputs": [],
   "source": [
    "estimator.fit({'training': inputs}, wait=False)"
   ]
  },
  {
   "cell_type": "markdown",
   "metadata": {},
   "source": [
    "Once the training job is running, navigate to SageMaker in the AWS console to see your training job. It will likely show the status 'InProgress'. Feel free to continue with this workshop and check back later to view the results.\n",
    "\n",
    "<img src=\"img/training_job.PNG\" alt=\"Training job in the console\" width=\"800\"/>\n",
    "\n",
    "If you look at the training job more closely, you'll see that the console also lists the values of the hyperparameters, which is great if you need to look up this information at a later time.\n",
    "\n",
    "<img src=\"img/training_job_parameters.PNG\" alt=\"Training job hyperparameters\" width=\"800\"/>\n",
    "\n",
    "Once the training job has finished, SageMaker will also display graphs of the metrics we asked it to track.\n",
    "\n",
    "<img src=\"img/training_job_metrics.PNG\" alt=\"Training job metrics\" width=\"800\"/>"
   ]
  },
  {
   "cell_type": "markdown",
   "metadata": {},
   "source": [
    "### Hyperparameter tuning <a class=\"anchor\" id=\"tune\"></a>\n",
    "\n",
    "Similar to running training jobs with custom PyTorch algorithms, you can run hyperparameter tuning jobs. The code below shows you how. Most of this code should look familiar to you if you have used built-in algorithms before. First, you define an estimator, same as for a training job. Then you specify which hyperparameters to tune and their search range. Finally, you define a tuner, with a strategy, an objective, and job settings. \n",
    "\n",
    "Don't forget to add the `metric_definitions` you defined before for the training job. In this example, we choose to find the best values for the learning rate (`lr`) and `gamma`. We also tell SageMaker to tune based on the `val:accuracy` metric which you have defined."
   ]
  },
  {
   "cell_type": "code",
   "execution_count": null,
   "metadata": {},
   "outputs": [],
   "source": [
    "from sagemaker.pytorch import PyTorch\n",
    "from sagemaker.tuner import HyperparameterTuner, IntegerParameter, CategoricalParameter, ContinuousParameter\n",
    "\n",
    "# !ACTION REQUIRED! In the code below, you need to replace the <TODO>'s!\n",
    "\n",
    "estimator = PyTorch(\n",
    "    entry_point='scripts/sagemaker_pytorch_mnist.py',\n",
    "    base_job_name='training-pytorch-mnist',\n",
    "    role=role,\n",
    "    framework_version='1.2.0',\n",
    "    py_version='py3',\n",
    "    instance_count=1,\n",
    "    instance_type='ml.p2.xlarge',\n",
    "    hyperparameters={\n",
    "        'batch-size': 64,\n",
    "        'test-batch-size': 1000,\n",
    "        'epochs': 5,\n",
    "        'seed': 1,\n",
    "        'save-model': 'True'\n",
    "    },\n",
    "    metric_definitions=[\n",
    "        {'Name': 'train:loss', 'Regex': 'Train Epoch: .+Loss: (.+)'},\n",
    "        {'Name': 'train:accuracy', 'Regex': '<TODO>'},\n",
    "        {'Name': 'val:loss', 'Regex': '<TODO>'},\n",
    "        {'Name': 'val:accuracy', 'Regex': '<TODO>'}\n",
    "    ]\n",
    ")\n",
    "\n",
    "hyperparameter_ranges = {\n",
    "    'lr': ContinuousParameter(0.001, 1.0, scaling_type='Logarithmic'),\n",
    "    'gamma': ContinuousParameter(0.01, 0.9, scaling_type='Auto')\n",
    "}\n",
    "\n",
    "tuner = HyperparameterTuner(\n",
    "    estimator=estimator,\n",
    "    objective_metric_name='val:accuracy',\n",
    "    hyperparameter_ranges=hyperparameter_ranges,\n",
    "    metric_definitions=[\n",
    "        {'Name': 'train:loss', 'Regex': 'Train Epoch: .+Loss: (.+)'},\n",
    "        {'Name': 'train:accuracy', 'Regex': '<TODO>'},\n",
    "        {'Name': 'val:loss', 'Regex': '<TODO>'},\n",
    "        {'Name': 'val:accuracy', 'Regex': '<TODO>'}\n",
    "    ],\n",
    "    strategy='Bayesian',\n",
    "    objective_type='Maximize',\n",
    "    max_jobs=4,\n",
    "    max_parallel_jobs=2,\n",
    "    base_tuning_job_name='tuning-pytorch-mnist'\n",
    ")\n",
    "\n",
    "tuner.fit(inputs=inputs)"
   ]
  },
  {
   "cell_type": "markdown",
   "metadata": {},
   "source": [
    "Once the hyperparameter tuning job is running, navigate to SageMaker in the AWS console to see it. It will likely show the status 'InProgress'. Feel free to continue with this workshop and check back later to view the results.\n",
    "\n",
    "<div class=\"alert alert-block alert-warning\">\n",
    "    <b>Encounter an error?</b> If you encounter an error related to instance types, this likely means that you do not have access to p2 instances on your AWS account. New AWS accounts have limits on the resource types to prevent abuse. If you are using your own account, request a limit increase through the <a href=https://console.aws.amazon.com/support/home#/>AWS Support Center</a>. If this is not your own account, simply run the training on an 'ml.c4.xlarge' instance (and reduce the number of epochs). \n",
    "</div> "
   ]
  },
  {
   "cell_type": "markdown",
   "metadata": {},
   "source": [
    "### Deploy <a class=\"anchor\" id=\"deploy\"></a>\n",
    "\n",
    "Finally, let's take a look at how to deploy a custom PyTorch model to an Amazon SageMaker endpoint. The code required to deploy the model could be included in `sagemaker_pytorch_mnist.py`, but in this case we will store it in a separate file called `serve_pytorch_mnist.py` which has already been placed in the `scripts` folder of this workshop. Take a look at the script first."
   ]
  },
  {
   "cell_type": "code",
   "execution_count": null,
   "metadata": {},
   "outputs": [],
   "source": [
    "!pygmentize scripts/serve_pytorch_mnist.py"
   ]
  },
  {
   "cell_type": "markdown",
   "metadata": {},
   "source": [
    "Notice that the script includes the same convolutional neural network build as the training script. However, the key method to understand is the `model_fn()` method. Amazon SageMaker model serving defines four methods which you can use to manipulate the behavior of the deployed model:\n",
    "\n",
    "* `model_fn`: Takes a model directory and loads the model artifacts into an estimator object.\n",
    "* `input_fn` (*optional*): Takes request data and deserializes the data into an object for prediction.\n",
    "* `predict_fn` (*optional*): Takes the deserialized request object and performs inference against the loaded model.\n",
    "* `output_fn` (*optional*): Takes the result of prediction and serializes this according to the response content type.\n",
    "\n",
    "These methods can be completely customized based on your needs. The `input_fn`, `predict_fn`, and `output_fn` methods have default implementations in the SageMaker PyTorch model server. You only need to include these methods if you want to modify the default implementation. However, the `model_fn` method must always be defined.\n",
    "\n",
    "When you're happy with the serving script, you can use the code below to set up a SageMaker endpoint. Hopefully, at this point, at least one of your training jobs has finished. You'll need to find the S3 URI of the model artifact for the model you want to deploy. It should look like: `s3://<bucket-name>/.../model.tar.gz`. This URI can be found through the console or through code in this notebook - it is up to you to pick a method, figure out how to find the URI, and insert it in the code below."
   ]
  },
  {
   "cell_type": "code",
   "execution_count": null,
   "metadata": {},
   "outputs": [],
   "source": [
    "from sagemaker.pytorch import PyTorchModel\n",
    "\n",
    "# !ACTION REQUIRED! In the code below, you need to replace the <TODO>'s!\n",
    "\n",
    "model = PyTorchModel(\n",
    "    model_data='<TODO>',\n",
    "    role=role,\n",
    "    framework_version='1.2.0',\n",
    "    py_version='py3',\n",
    "    entry_point='scripts/serve_pytorch_mnist.py',\n",
    ")\n",
    "\n",
    "predictor = model.deploy(initial_instance_count=1, instance_type='ml.m4.xlarge')"
   ]
  },
  {
   "cell_type": "markdown",
   "metadata": {},
   "source": [
    "This workshop will not go through the process of running test data through the endpoint, because this is covered in all basic workshops. However, feel free to write this code yourself as a challenge.\n",
    "\n",
    "Don't forget to delete the endpoint before you finish."
   ]
  },
  {
   "cell_type": "code",
   "execution_count": null,
   "metadata": {},
   "outputs": [],
   "source": [
    "predictor.delete_endpoint()"
   ]
  },
  {
   "cell_type": "markdown",
   "metadata": {},
   "source": [
    "## Resources <a class=\"anchor\" id=\"iwantmore\"></a>\n",
    "\n",
    "If you are interested in learning more about the advanced features of Amazon SageMaker, below are some recommended resources for development and further learning.\n",
    "\n",
    "**Further Learning**\n",
    "* [Distributed MNIST with PyTorch on Amazon SageMaker](https://github.com/awslabs/amazon-sagemaker-examples/blob/master/sagemaker-python-sdk/pytorch_mnist/mnist.py) - a more advanced version of the code in this workshop, making use of distributed computing.\n",
    "* [Amazon SageMaker Immersion Day Workshop](https://sagemaker-immersionday.workshop.aws/) - a set of workshops from the Amazon SageMaker Immersion Day\n",
    "\n",
    "**Useful Resources**\n",
    "* [Amazon SageMaker Official Documentation](https://docs.aws.amazon.com/sagemaker/latest/dg/whatis.html)\n",
    "* [AWS SageMaker Blogs](https://aws.amazon.com/blogs/?filtered-posts.q=sagemaker&filtered-posts.q_operator=AND)\n",
    "* [Amazon SageMaker Python SDK Documentation](https://sagemaker.readthedocs.io/en/stable/index.html)\n",
    "* [Using PyTorch with the Amazon SageMaker Python SDK](https://sagemaker.readthedocs.io/en/stable/using_pytorch.html)\n",
    "* [AWS Samples GitHub](https://github.com/aws-samples)\n",
    "* [Amazon SageMaker Examples GitHub](https://github.com/awslabs/amazon-sagemaker-examples)"
   ]
  }
 ],
 "metadata": {
  "kernelspec": {
   "display_name": "conda_pytorch_p36",
   "language": "python",
   "name": "conda_pytorch_p36"
  },
  "language_info": {
   "codemirror_mode": {
    "name": "ipython",
    "version": 3
   },
   "file_extension": ".py",
   "mimetype": "text/x-python",
   "name": "python",
   "nbconvert_exporter": "python",
   "pygments_lexer": "ipython3",
   "version": "3.6.10"
  }
 },
 "nbformat": 4,
 "nbformat_minor": 4
}
